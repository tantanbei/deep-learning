{
  "nbformat": 4,
  "nbformat_minor": 0,
  "metadata": {
    "colab": {
      "provenance": [],
      "authorship_tag": "ABX9TyNmuVBCWI4lbqd3CeNPjI7g",
      "include_colab_link": true
    },
    "kernelspec": {
      "name": "python3",
      "display_name": "Python 3"
    },
    "language_info": {
      "name": "python"
    }
  },
  "cells": [
    {
      "cell_type": "markdown",
      "metadata": {
        "id": "view-in-github",
        "colab_type": "text"
      },
      "source": [
        "<a href=\"https://colab.research.google.com/github/tantanbei/deep-learning/blob/main/%E6%B7%B1%E5%BA%A6%E5%AD%A6%E4%B9%A0%E4%B9%8B%E7%A5%9E%E7%BB%8F%E7%BD%91%E7%BB%9C%E5%85%A5%E9%97%A8%E6%9C%80%E4%BD%B3%E8%B7%AF%E5%BE%84.ipynb\" target=\"_parent\"><img src=\"https://colab.research.google.com/assets/colab-badge.svg\" alt=\"Open In Colab\"/></a>"
      ]
    },
    {
      "cell_type": "code",
      "execution_count": null,
      "metadata": {
        "colab": {
          "base_uri": "https://localhost:8080/"
        },
        "id": "JAfMHIYPCGHo",
        "outputId": "fa41b934-6a45-404a-adc5-337cd1c8556a"
      },
      "outputs": [
        {
          "output_type": "stream",
          "name": "stdout",
          "text": [
            "TensorFlow version: 2.15.0\n"
          ]
        }
      ],
      "source": [
        "import tensorflow as tf\n",
        "print(\"TensorFlow version:\", tf.__version__)"
      ]
    },
    {
      "cell_type": "code",
      "source": [
        "mnist = tf.keras.datasets.mnist\n",
        "\n",
        "(x_train, y_train), (x_test, y_test) = mnist.load_data()\n",
        "x_train, x_test = x_train / 255.0, x_test / 255.0"
      ],
      "metadata": {
        "colab": {
          "base_uri": "https://localhost:8080/"
        },
        "id": "xdzUnVM_DvV_",
        "outputId": "b8b8093d-979b-4f9b-d948-78ddeb3ecaf3"
      },
      "execution_count": null,
      "outputs": [
        {
          "output_type": "stream",
          "name": "stdout",
          "text": [
            "Downloading data from https://storage.googleapis.com/tensorflow/tf-keras-datasets/mnist.npz\n",
            "11490434/11490434 [==============================] - 0s 0us/step\n"
          ]
        }
      ]
    },
    {
      "cell_type": "code",
      "source": [
        "import os\n",
        "print(os.getcwd())\n",
        "\n",
        "#The CIFAR-10 dataset consists of 60000 32x32 colour images in 10 classes, with 6000 images per class.\n",
        "#There are 50000 training images and 10000 test images.\n",
        "#下载\n",
        "os.system(\"wget https://www.cs.toronto.edu/~kriz/cifar-10-python.tar.gz\")\n"
      ],
      "metadata": {
        "colab": {
          "base_uri": "https://localhost:8080/"
        },
        "id": "Cn5pEJxVHK3c",
        "outputId": "62cc80f1-076f-4e6f-d2ea-c68c711ecfde"
      },
      "execution_count": null,
      "outputs": [
        {
          "output_type": "stream",
          "name": "stdout",
          "text": [
            "/content\n"
          ]
        },
        {
          "output_type": "execute_result",
          "data": {
            "text/plain": [
              "0"
            ]
          },
          "metadata": {},
          "execution_count": 3
        }
      ]
    },
    {
      "cell_type": "code",
      "source": [
        "#解压\n",
        "os.system(\"tar -zxvf cifar-10-python.tar.gz\")"
      ],
      "metadata": {
        "colab": {
          "base_uri": "https://localhost:8080/"
        },
        "id": "jzjEmwlQK-je",
        "outputId": "34c61133-848b-4223-f810-ad560f91c867"
      },
      "execution_count": null,
      "outputs": [
        {
          "output_type": "execute_result",
          "data": {
            "text/plain": [
              "0"
            ]
          },
          "metadata": {},
          "execution_count": 4
        }
      ]
    },
    {
      "cell_type": "code",
      "source": [
        "import _pickle as cPickle\n",
        "import numpy as np\n",
        "import os\n",
        "\n",
        "\n",
        "\n",
        "CIFAR_DIR = '/content/cifar-10-batches-py'\n",
        "\n",
        "print(os.listdir(CIFAR_DIR))"
      ],
      "metadata": {
        "colab": {
          "base_uri": "https://localhost:8080/"
        },
        "id": "d9_dhHsGICpb",
        "outputId": "233353a7-7a85-4318-aad1-1c60ec2a6455"
      },
      "execution_count": null,
      "outputs": [
        {
          "output_type": "stream",
          "name": "stdout",
          "text": [
            "['readme.html', 'data_batch_2', 'batches.meta', 'test_batch', 'data_batch_4', 'data_batch_3', 'data_batch_5', 'data_batch_1']\n"
          ]
        }
      ]
    },
    {
      "cell_type": "code",
      "source": [
        "with open(os.path.join(CIFAR_DIR, 'data_batch_1'), 'rb') as f:\n",
        "\n",
        "    data = cPickle.load(f, encoding='bytes')\n",
        "\n",
        "    print('type(data):', type(data))\n",
        "    print('data.keys():', data.keys())\n",
        "    print(\"type(data[b'data']):\", type(data[b'data']))\n",
        "    print(\"type(data[b'labels']):\", type(data[b'labels']))\n",
        "    print(\"type(data[b'batch_label']):\", type(data[b'batch_label']))\n",
        "    print(\"type(data[b'filenames']):\", type(data[b'filenames']))\n",
        "    print(\"data[b'data'].shape:\", data[b'data'].shape)\n",
        "    print(\"data[b'data'][0:2]:\", data[b'data'][0:2])\n",
        "    print(\"data[b'labels'][0:2]\", data[b'labels'][0:2])\n",
        "    print(\"data[b'batch_label']\", data[b'batch_label'])\n",
        "    print(\"data[b'filenames'][0:2]\", data[b'filenames'][0:2])\n",
        "\n",
        "# 32 * 32 = 1024 * 3 = 3072\n",
        "# RR－GG－BB = 3072\n"
      ],
      "metadata": {
        "colab": {
          "base_uri": "https://localhost:8080/"
        },
        "id": "lCt7lM0SMT6j",
        "outputId": "ed8e94c4-9340-48db-da1b-c3df2a93900c"
      },
      "execution_count": null,
      "outputs": [
        {
          "output_type": "stream",
          "name": "stdout",
          "text": [
            "type(data): <class 'dict'>\n",
            "data.keys(): dict_keys([b'batch_label', b'labels', b'data', b'filenames'])\n",
            "type(data[b'data']): <class 'numpy.ndarray'>\n",
            "type(data[b'labels']): <class 'list'>\n",
            "type(data[b'batch_label']): <class 'bytes'>\n",
            "type(data[b'filenames']): <class 'list'>\n",
            "data[b'data'].shape: (10000, 3072)\n",
            "data[b'data'][0:2]: [[ 59  43  50 ... 140  84  72]\n",
            " [154 126 105 ... 139 142 144]]\n",
            "data[b'labels'][0:2] [6, 9]\n",
            "data[b'batch_label'] b'training batch 1 of 5'\n",
            "data[b'filenames'][0:2] [b'leptodactylus_pentadactylus_s_000004.png', b'camion_s_000148.png']\n"
          ]
        }
      ]
    },
    {
      "cell_type": "code",
      "source": [
        "image_arr = data[b'data'][131]\n",
        "image_arr = image_arr.reshape((3, 32, 32))    # 32 32 3 三通道不一致，所以需要再做一下变换，如果解析的时候顺序不对，那么报错\n",
        "image_arr = image_arr.transpose((1, 2, 0))    # 把1，2位置上的往前放，把0位置上的放在最后，如果通道顺序不对，那么图片的方向会发生变化\n",
        "\n",
        "import matplotlib.pyplot as plt      # 显示图像的库\n",
        "from matplotlib.pyplot import imshow\n",
        "\n",
        "#%matplotlib inline      # 这样可以直接显示在notebook上，而不是再打开一个另外的框\n",
        "imshow(image_arr)    # 显示图片"
      ],
      "metadata": {
        "colab": {
          "base_uri": "https://localhost:8080/",
          "height": 448
        },
        "id": "rvnraueWPpph",
        "outputId": "70826fcf-a760-49b0-ffb9-5e42ee14103a"
      },
      "execution_count": null,
      "outputs": [
        {
          "output_type": "execute_result",
          "data": {
            "text/plain": [
              "<matplotlib.image.AxesImage at 0x7f25e40ed3f0>"
            ]
          },
          "metadata": {},
          "execution_count": 28
        },
        {
          "output_type": "display_data",
          "data": {
            "text/plain": [
              "<Figure size 640x480 with 1 Axes>"
            ],
            "image/png": "[encoded data removed]"
          },
          "metadata": {}
        }
      ]
    },
    {
      "cell_type": "code",
      "source": [
        "# 为了使函数具有更好的泛化能力，定义一个load_data\n",
        "# 用于从pickle文件将数据读取进来\n",
        "def load_data(filename):\n",
        "    '''read data from data file.'''\n",
        "    with open(filename, 'rb') as f:\n",
        "        data = cPickle.load(f, encoding='bytes')\n",
        "        return data[b'data'], data[b'labels']\n"
      ],
      "metadata": {
        "cellView": "code",
        "id": "Geh20tc88MY5"
      },
      "execution_count": null,
      "outputs": []
    },
    {
      "cell_type": "code",
      "source": [
        "# @title  搭建tensorflow计算图\n",
        "\n",
        "tf.compat.v1.disable_eager_execution()\n",
        "\n",
        "# 搭建tensorflow计算图\n",
        "x = tf.compat.v1.placeholder(tf.float32, [None, 3072])     # None表示可变性\n",
        "\n",
        "# [None]\n",
        "y = tf.compat.v1.placeholder(tf.int64, [None])\n",
        "\n",
        "# (3072, 1)\n",
        "w = tf.compat.v1.get_variable('w', [x.get_shape()[-1], 1],   # 因为是二分类，所以只有一个输出结果，定义为1\n",
        "                   initializer=tf.random_normal_initializer(0, 1))   #initializer表示初始化，这里使用正态分布,均值为0，方差为1\n",
        "\n",
        "# (1, )\n",
        "b = tf.compat.v1.get_variable('b', [1],\n",
        "                   initializer=tf.constant_initializer(0.0))   # b使用常量初始化\n",
        "# get_variable表示获取变量，如果已经定义好了就使用，如果没有就定义\n",
        "\n",
        "\n",
        "# [None, 3072] * [3072, 1] = [None, 1]\n",
        "y_ = tf.matmul(x, w) + b\n",
        "\n",
        "# [None, 1]\n",
        "p_y_1 = tf.nn.sigmoid(y_)   # 概率值\n",
        "\n",
        "# 因为y维度不一样，所以需要进行一下reshape\n",
        "# [None, 1]\n",
        "y_reshaped = tf.reshape(y, (-1, 1))\n",
        "y_reshaped_float = tf.cast(y_reshaped, tf.float32)\n",
        "\n",
        "# 用平方差作为损失函数\n",
        "loss = tf.reduce_mean(tf.square(y_reshaped_float - p_y_1))   #  类型不一致需要变换\n",
        "\n",
        "predict = p_y_1 > 0.5    # true:1   false:0\n",
        "\n",
        "# [1, 0, 1, 1, 0, 1,...]\n",
        "correct_prediction = tf.equal(tf.cast(predict, tf.int64), y_reshaped)   # bool\n",
        "\n",
        "accuracy = tf.reduce_mean(tf.cast(correct_prediction, tf.float64))\n",
        "\n",
        "# 定义梯度下降的方法\n",
        "with tf.name_scope('train_op'):\n",
        "    train_op = tf.compat.v1.train.AdamOptimizer(1e-3).minimize(loss)    # 最小化loss，到这里，计算图构建完成"
      ],
      "metadata": {
        "colab": {
          "base_uri": "https://localhost:8080/",
          "height": 382
        },
        "id": "tLhItwQn8ils",
        "outputId": "c0572fcf-7fcb-487c-fdad-caeb60f5a3d6"
      },
      "execution_count": null,
      "outputs": [
        {
          "output_type": "error",
          "ename": "ValueError",
          "evalue": "Variable w already exists, disallowed. Did you mean to set reuse=True or reuse=tf.AUTO_REUSE in VarScope?",
          "traceback": [
            "\u001b[0;31m---------------------------------------------------------------------------\u001b[0m",
            "\u001b[0;31mValueError\u001b[0m                                Traceback (most recent call last)",
            "\u001b[0;32m<ipython-input-19-a5c279525c05>\u001b[0m in \u001b[0;36m<cell line: 12>\u001b[0;34m()\u001b[0m\n\u001b[1;32m     10\u001b[0m \u001b[0;34m\u001b[0m\u001b[0m\n\u001b[1;32m     11\u001b[0m \u001b[0;31m# (3072, 1)\u001b[0m\u001b[0;34m\u001b[0m\u001b[0;34m\u001b[0m\u001b[0m\n\u001b[0;32m---> 12\u001b[0;31m w = tf.compat.v1.get_variable('w', [x.get_shape()[-1], 1],   # 因为是二分类，所以只有一个输出结果，定义为1\n\u001b[0m\u001b[1;32m     13\u001b[0m                    initializer=tf.random_normal_initializer(0, 1))   #initializer表示初始化，这里使用正态分布,均值为0，方差为1\n\u001b[1;32m     14\u001b[0m \u001b[0;34m\u001b[0m\u001b[0m\n",
            "\u001b[0;32m/usr/local/lib/python3.10/dist-packages/tensorflow/python/ops/variable_scope.py\u001b[0m in \u001b[0;36mget_variable\u001b[0;34m(name, shape, dtype, initializer, regularizer, trainable, collections, caching_device, partitioner, validate_shape, use_resource, custom_getter, constraint, synchronization, aggregation)\u001b[0m\n\u001b[1;32m   1628\u001b[0m                  \u001b[0msynchronization\u001b[0m\u001b[0;34m=\u001b[0m\u001b[0mVariableSynchronization\u001b[0m\u001b[0;34m.\u001b[0m\u001b[0mAUTO\u001b[0m\u001b[0;34m,\u001b[0m\u001b[0;34m\u001b[0m\u001b[0;34m\u001b[0m\u001b[0m\n\u001b[1;32m   1629\u001b[0m                  aggregation=VariableAggregation.NONE):\n\u001b[0;32m-> 1630\u001b[0;31m   return get_variable_scope().get_variable(\n\u001b[0m\u001b[1;32m   1631\u001b[0m       \u001b[0m_get_default_variable_store\u001b[0m\u001b[0;34m(\u001b[0m\u001b[0;34m)\u001b[0m\u001b[0;34m,\u001b[0m\u001b[0;34m\u001b[0m\u001b[0;34m\u001b[0m\u001b[0m\n\u001b[1;32m   1632\u001b[0m       \u001b[0mname\u001b[0m\u001b[0;34m,\u001b[0m\u001b[0;34m\u001b[0m\u001b[0;34m\u001b[0m\u001b[0m\n",
            "\u001b[0;32m/usr/local/lib/python3.10/dist-packages/tensorflow/python/ops/variable_scope.py\u001b[0m in \u001b[0;36mget_variable\u001b[0;34m(self, var_store, name, shape, dtype, initializer, regularizer, reuse, trainable, collections, caching_device, partitioner, validate_shape, use_resource, custom_getter, constraint, synchronization, aggregation)\u001b[0m\n\u001b[1;32m   1338\u001b[0m       \u001b[0;32mif\u001b[0m \u001b[0mdtype\u001b[0m \u001b[0;32mis\u001b[0m \u001b[0;32mNone\u001b[0m\u001b[0;34m:\u001b[0m\u001b[0;34m\u001b[0m\u001b[0;34m\u001b[0m\u001b[0m\n\u001b[1;32m   1339\u001b[0m         \u001b[0mdtype\u001b[0m \u001b[0;34m=\u001b[0m \u001b[0mself\u001b[0m\u001b[0;34m.\u001b[0m\u001b[0m_dtype\u001b[0m\u001b[0;34m\u001b[0m\u001b[0;34m\u001b[0m\u001b[0m\n\u001b[0;32m-> 1340\u001b[0;31m       return var_store.get_variable(\n\u001b[0m\u001b[1;32m   1341\u001b[0m           \u001b[0mfull_name\u001b[0m\u001b[0;34m,\u001b[0m\u001b[0;34m\u001b[0m\u001b[0;34m\u001b[0m\u001b[0m\n\u001b[1;32m   1342\u001b[0m           \u001b[0mshape\u001b[0m\u001b[0;34m=\u001b[0m\u001b[0mshape\u001b[0m\u001b[0;34m,\u001b[0m\u001b[0;34m\u001b[0m\u001b[0;34m\u001b[0m\u001b[0m\n",
            "\u001b[0;32m/usr/local/lib/python3.10/dist-packages/tensorflow/python/ops/variable_scope.py\u001b[0m in \u001b[0;36mget_variable\u001b[0;34m(self, name, shape, dtype, initializer, regularizer, reuse, trainable, collections, caching_device, partitioner, validate_shape, use_resource, custom_getter, constraint, synchronization, aggregation)\u001b[0m\n\u001b[1;32m    583\u001b[0m       \u001b[0;32mreturn\u001b[0m \u001b[0mcustom_getter\u001b[0m\u001b[0;34m(\u001b[0m\u001b[0;34m**\u001b[0m\u001b[0mcustom_getter_kwargs\u001b[0m\u001b[0;34m)\u001b[0m\u001b[0;34m\u001b[0m\u001b[0;34m\u001b[0m\u001b[0m\n\u001b[1;32m    584\u001b[0m     \u001b[0;32melse\u001b[0m\u001b[0;34m:\u001b[0m\u001b[0;34m\u001b[0m\u001b[0;34m\u001b[0m\u001b[0m\n\u001b[0;32m--> 585\u001b[0;31m       return _true_getter(\n\u001b[0m\u001b[1;32m    586\u001b[0m           \u001b[0mname\u001b[0m\u001b[0;34m,\u001b[0m\u001b[0;34m\u001b[0m\u001b[0;34m\u001b[0m\u001b[0m\n\u001b[1;32m    587\u001b[0m           \u001b[0mshape\u001b[0m\u001b[0;34m=\u001b[0m\u001b[0mshape\u001b[0m\u001b[0;34m,\u001b[0m\u001b[0;34m\u001b[0m\u001b[0;34m\u001b[0m\u001b[0m\n",
            "\u001b[0;32m/usr/local/lib/python3.10/dist-packages/tensorflow/python/ops/variable_scope.py\u001b[0m in \u001b[0;36m_true_getter\u001b[0;34m(name, shape, dtype, initializer, regularizer, reuse, trainable, collections, caching_device, partitioner, validate_shape, use_resource, constraint, synchronization, aggregation)\u001b[0m\n\u001b[1;32m    536\u001b[0m             \"name was already created with partitioning?\" % name)\n\u001b[1;32m    537\u001b[0m \u001b[0;34m\u001b[0m\u001b[0m\n\u001b[0;32m--> 538\u001b[0;31m       return self._get_single_variable(\n\u001b[0m\u001b[1;32m    539\u001b[0m           \u001b[0mname\u001b[0m\u001b[0;34m=\u001b[0m\u001b[0mname\u001b[0m\u001b[0;34m,\u001b[0m\u001b[0;34m\u001b[0m\u001b[0;34m\u001b[0m\u001b[0m\n\u001b[1;32m    540\u001b[0m           \u001b[0mshape\u001b[0m\u001b[0;34m=\u001b[0m\u001b[0mshape\u001b[0m\u001b[0;34m,\u001b[0m\u001b[0;34m\u001b[0m\u001b[0;34m\u001b[0m\u001b[0m\n",
            "\u001b[0;32m/usr/local/lib/python3.10/dist-packages/tensorflow/python/ops/variable_scope.py\u001b[0m in \u001b[0;36m_get_single_variable\u001b[0;34m(self, name, shape, dtype, initializer, regularizer, partition_info, reuse, trainable, collections, caching_device, validate_shape, use_resource, constraint, synchronization, aggregation)\u001b[0m\n\u001b[1;32m    894\u001b[0m         \u001b[0;31m# ResourceVariables don't have an op associated with so no traceback\u001b[0m\u001b[0;34m\u001b[0m\u001b[0;34m\u001b[0m\u001b[0m\n\u001b[1;32m    895\u001b[0m         \u001b[0;32mif\u001b[0m \u001b[0misinstance\u001b[0m\u001b[0;34m(\u001b[0m\u001b[0mvar\u001b[0m\u001b[0;34m,\u001b[0m \u001b[0mresource_variable_ops\u001b[0m\u001b[0;34m.\u001b[0m\u001b[0mResourceVariable\u001b[0m\u001b[0;34m)\u001b[0m\u001b[0;34m:\u001b[0m\u001b[0;34m\u001b[0m\u001b[0;34m\u001b[0m\u001b[0m\n\u001b[0;32m--> 896\u001b[0;31m           \u001b[0;32mraise\u001b[0m \u001b[0mValueError\u001b[0m\u001b[0;34m(\u001b[0m\u001b[0merr_msg\u001b[0m\u001b[0;34m)\u001b[0m\u001b[0;34m\u001b[0m\u001b[0;34m\u001b[0m\u001b[0m\n\u001b[0m\u001b[1;32m    897\u001b[0m         \u001b[0mtb\u001b[0m \u001b[0;34m=\u001b[0m \u001b[0mvar\u001b[0m\u001b[0;34m.\u001b[0m\u001b[0mop\u001b[0m\u001b[0;34m.\u001b[0m\u001b[0mtraceback\u001b[0m\u001b[0;34m[\u001b[0m\u001b[0;34m:\u001b[0m\u001b[0;34m:\u001b[0m\u001b[0;34m-\u001b[0m\u001b[0;36m1\u001b[0m\u001b[0;34m]\u001b[0m\u001b[0;34m\u001b[0m\u001b[0;34m\u001b[0m\u001b[0m\n\u001b[1;32m    898\u001b[0m         \u001b[0;31m# Throw away internal tf entries and only take a few lines. In some\u001b[0m\u001b[0;34m\u001b[0m\u001b[0;34m\u001b[0m\u001b[0m\n",
            "\u001b[0;31mValueError\u001b[0m: Variable w already exists, disallowed. Did you mean to set reuse=True or reuse=tf.AUTO_REUSE in VarScope?"
          ]
        }
      ]
    },
    {
      "cell_type": "code",
      "source": [
        "# CIFAR-10数据处理的方法\n",
        "\n",
        "class CifarData:\n",
        "    # 初始化：filenames,文件名说明对于训练数据集和测试数据集是分开的\n",
        "    # need_shuffle:对于训练集来说，在训练的时候，过完一遍数据之后，需要shuffle一下数据，就是使得数据更加散乱，散乱代表数据之间没有依赖关系，使得泛化能力更强，这是机器学习中一个常用的概念\n",
        "    # 对于测试集来说，因为不需要训练，所以不需要shuffle\n",
        "    def __init__(self, filenames, need_shuffle):\n",
        "        # 把数据读进来\n",
        "        all_data = []\n",
        "        all_labels = []\n",
        "        for filename in filenames:\n",
        "            data, labels = load_data(filename)\n",
        "            # 因为我们要做的是一个二分类的问题，所以我们只用CIFAR-10的0和1两个分类，在这里需要做一个filter\n",
        "            # 因为data和labels的数目是一样的，所以我们把它们打包到一起\n",
        "            for item, label in zip(data, labels):\n",
        "                # 如果类别是0，1的话，就把数据和label放进来\n",
        "                if label in [0, 1]:\n",
        "                    all_data.append(item)\n",
        "                    all_labels.append(label)\n",
        "\n",
        "        # 把最后的值合并并且转化为numpy的矩阵\n",
        "        self._data = np.vstack(all_data)     # 从纵向上把数据合并到一起，因为all_data定义是一个一个向量\n",
        "        self._data = self._data / 127.5 - 1    # 一般来说，我们会把图像缩放到-1到1之间，所以进行缩放：归一化\n",
        "        self._labels = np.hstack(all_labels)  # 从横向上合并到一起，因为label实际上是一个一维向量\n",
        "\n",
        "        # 测试\n",
        "        print(self._data.shape)\n",
        "        print(self._labels.shape)\n",
        "\n",
        "        self._num_examples = self._data.shape[0]  # 数量\n",
        "        self._need_shuffle = need_shuffle   # shuffle开关\n",
        "        self._indicator = 0   # 表示训练集已经遍历到哪个位置了\n",
        "        if self._need_shuffle:\n",
        "            self._shuffle_data()\n",
        "\n",
        "    # 因为all_data和all_labels都是numpy的数据结构，所以我们可以用numpy的方法来做\n",
        "    def _shuffle_data(self):\n",
        "        # np.random.permutation这个函数会做一个混排，从0到_num_examples，如[0, 1, 2, 3, 4, 5] -> [5, 3, 2, 4, 0, 1]\n",
        "        p = np.random.permutation(self._num_examples)\n",
        "        # p只是得到一个排列，需要把数据放进来\n",
        "        # _data和_labels应该做一样的shuffle，否则会错乱\n",
        "        self._data = self._data[p]\n",
        "        self._labels = self._labels[p]\n",
        "\n",
        "    def next_batch(self, batch_size):\n",
        "        '''return batch_size examples as a batch.'''\n",
        "        end_indicator = self._indicator + batch_size  # 对应于_indicator，这个表示结束位置\n",
        "        if end_indicator > self._num_examples:\n",
        "            if self._need_shuffle:\n",
        "                self._shuffle_data()\n",
        "                self._indicator = 0\n",
        "                end_indicator = batch_size\n",
        "            else:\n",
        "                raise Exception('have no more examples')\n",
        "\n",
        "        # 当end_indicator=batch_size时，如果还比_num_examples大，就需要抛出异常了\n",
        "        if end_indicator > self._num_examples:\n",
        "            raise Exception('batch size is larger than all examples')\n",
        "\n",
        "        batch_data = self._data[self._indicator: end_indicator]   # 需要把这个范围内的数据放到结果中\n",
        "        batch_labels = self._labels[self._indicator: end_indicator]\n",
        "        self._indicator = end_indicator\n",
        "        return batch_data, batch_labels\n",
        "\n",
        "train_filenames = [os.path.join(CIFAR_DIR, 'data_batch_%d' % i) for i in range(1,6)]\n",
        "test_filenames = [os.path.join(CIFAR_DIR, 'test_batch')]\n",
        "\n",
        "train_data = CifarData(train_filenames, True)"
      ],
      "metadata": {
        "colab": {
          "base_uri": "https://localhost:8080/"
        },
        "id": "6sbsgn_H9lzd",
        "outputId": "5586f99e-b514-4e2b-c04d-bd26c43a16eb"
      },
      "execution_count": null,
      "outputs": [
        {
          "output_type": "stream",
          "name": "stdout",
          "text": [
            "(10000, 3072)\n",
            "(10000,)\n"
          ]
        }
      ]
    },
    {
      "cell_type": "code",
      "source": [
        "# 执行计算图，首先要初始化变量\n",
        "init = tf.global_variables_initializer()\n",
        "\n",
        "batch_size = 20\n",
        "train_steps = 100000    # 因为是一个神经元，所以还是挺快的\n",
        "test_steps = 100  # 20 * 200 = 2000 张图片\n",
        "\n",
        "# 对于tensorflow来说，在构建好计算图后，需要开启一个会话session\n",
        "# 打开会话之后，就可以执行计算图了\n",
        "with tf.Session() as sess:\n",
        "\n",
        "    sess.run(init)\n",
        "\n",
        "    for i in range(train_steps):\n",
        "\n",
        "        batch_data, batch_labels = train_data.next_batch(batch_size)\n",
        "\n",
        "        # 在会话中执行计算图使用sess.run()方法，如果加了train_op,就说明在这次run中我们就去训练了，如果没有，就是在测试模式下\n",
        "        # feed_dict:要喂入的数据，因为前面x和y都是placeholder，所以需要输入数据，x和y应该输入的是CIFAR-10的数据，分别是图片数据和label数据\n",
        "        # 需要在CIFAR-10数据集上循环遍历整个数据，使得feed_dict拿到的是不同的数据\n",
        "        # 为了达到这种处理模式，我们需要对CIFAR-10的数据集做一些处理\n",
        "        loss_val, acc_val, _ = sess.run(\n",
        "            [loss, accuracy, train_op],\n",
        "            feed_dict={x: batch_data, y: batch_labels})\n",
        "\n",
        "        # 打印log\n",
        "        if (i+1) % 500 == 0:\n",
        "            print('[Train] Step: %d, loss: %4.5f, acc: %4.5f' % (i+1, loss_val, acc_val))\n",
        "\n",
        "        if (i+1) % 5000 == 0:\n",
        "            # 因为test不用shuffle，所以遍历完之后抛出异常，所以需要在遍历完一次之后重新创建CifarData类\n",
        "            test_data = CifarData(test_filenames, False)\n",
        "            all_test_acc_val = []    # 需要做一个总的test上的结果，所以需要把这些结果加起来做平均\n",
        "            for j in range(test_steps):\n",
        "                test_batch_data, test_batch_labels = test_data.next_batch(batch_size)\n",
        "                test_acc_val = sess.run([accuracy], feed_dict={x: test_batch_data, y: test_batch_labels})\n",
        "                all_test_acc_val.append(test_acc_val)\n",
        "\n",
        "            test_acc = np.mean(all_test_acc_val)\n",
        "            print('[Test] Step: %d, acc: %4.5f' % (i+1, test_acc))\n",
        "\n",
        "            # 两次测试准确率是一样的，说明没有学习到什么东西，我们需要做一下改进——》CifarData"
      ],
      "metadata": {
        "id": "Z2rddBpx-MTz"
      },
      "execution_count": null,
      "outputs": []
    }
  ]
}