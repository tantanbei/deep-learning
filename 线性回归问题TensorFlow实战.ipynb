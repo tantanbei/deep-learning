{
  "nbformat": 4,
  "nbformat_minor": 0,
  "metadata": {
    "colab": {
      "provenance": [],
      "authorship_tag": "ABX9TyPGWGLopi+8b34WymvqoJzh",
      "include_colab_link": true
    },
    "kernelspec": {
      "name": "python3",
      "display_name": "Python 3"
    },
    "language_info": {
      "name": "python"
    }
  },
  "cells": [
    {
      "cell_type": "markdown",
      "metadata": {
        "id": "view-in-github",
        "colab_type": "text"
      },
      "source": [
        "<a href=\"https://colab.research.google.com/github/tantanbei/deep-learning/blob/main/%E7%BA%BF%E6%80%A7%E5%9B%9E%E5%BD%92%E9%97%AE%E9%A2%98TensorFlow%E5%AE%9E%E6%88%98.ipynb\" target=\"_parent\"><img src=\"https://colab.research.google.com/assets/colab-badge.svg\" alt=\"Open In Colab\"/></a>"
      ]
    },
    {
      "cell_type": "code",
      "execution_count": null,
      "metadata": {
        "id": "RSdMa-LFAMLY"
      },
      "outputs": [],
      "source": [
        "%matplotlib inline\n",
        "\n",
        "import matplotlib.pyplot as plt\n",
        "import numpy as np\n",
        "#import tensorflow as tf\n",
        "import tensorflow.compat.v1 as tf\n",
        "tf.disable_v2_behavior()\n",
        "\n",
        "np.random.seed(5)"
      ]
    },
    {
      "cell_type": "code",
      "source": [
        "# 直接采用np生成等差数列的方法，生成100个点，每个点的取值在-1~1之间\n",
        "\n",
        "x_data = np.linspace(-1, 1, 100)\n",
        "\n",
        "# y = 2x + 1 + 噪声， 其中，噪声的维度与x_data一致\n",
        "y_data = 2 * x_data + 1.0 + np.random.randn(*x_data.shape) * 0.4"
      ],
      "metadata": {
        "id": "ze42oj02CXv6"
      },
      "execution_count": null,
      "outputs": []
    },
    {
      "cell_type": "code",
      "source": [
        "#画出随机生成数据的散点图\n",
        "plt.scatter(x_data, y_data)\n",
        "\n",
        "#画出我们想要学习到的线性函数 y = 2x + 1\n",
        "plt.plot(x_data, 2 * x_data + 1.0, color = 'red', linewidth = 3)"
      ],
      "metadata": {
        "colab": {
          "base_uri": "https://localhost:8080/",
          "height": 447
        },
        "id": "KqxbYe-3C1ug",
        "outputId": "94034ba5-3940-468b-fb21-82dfccb9c3c4"
      },
      "execution_count": null,
      "outputs": [
        {
          "output_type": "execute_result",
          "data": {
            "text/plain": [
              "[<matplotlib.lines.Line2D at 0x7d0e546e9e70>]"
            ]
          },
          "metadata": {},
          "execution_count": 6
        },
        {
          "output_type": "display_data",
          "data": {
            "text/plain": [
              "<Figure size 640x480 with 1 Axes>"
            ],
            "image/png": "[encoded data removed]"
          },
          "metadata": {}
        }
      ]
    },
    {
      "cell_type": "code",
      "source": [
        "# 构建模型\n",
        "\n",
        "tf.reset_default_graph()\n",
        "\n",
        "x = tf.placeholder(tf.float32, [None])\n",
        "y = tf.placeholder(tf.float32, [None])\n",
        "print(x)\n",
        "print(y)\n",
        "\n",
        "w = tf.get_variable('w', [1], initializer=tf.constant_initializer(1.0))\n",
        "b = tf.get_variable('b', [1], initializer=tf.constant_initializer(0.0))\n",
        "print(w)\n",
        "print(b)\n",
        "\n",
        "\n",
        "y_ = w * x + b\n",
        "\n",
        "#p_y_1 = tf.nn.sigmoid(y_)\n",
        "#print(p_y_1)\n",
        "\n",
        "#y_reshaped = tf.reshape(y, (-1, 1))\n",
        "loss = tf.reduce_mean(tf.square(y - y_))\n",
        "\n",
        "# 定义梯度下降的方法\n",
        "with tf.name_scope('train_op'):\n",
        "    train_op = tf.train.AdamOptimizer(1e-2).minimize(loss)    # 最小化loss，到这里，计算图构建完成\n",
        "\n",
        "\n",
        "#训练\n",
        "init = tf.global_variables_initializer()\n",
        "\n",
        "with tf.Session() as sess:\n",
        "    sess.run(init)\n",
        "    for i in range(10):\n",
        "      #batch_data = []\n",
        "      #batch_labels = []\n",
        "      for xs, ys in zip(x_data, y_data):\n",
        "        w0, b0, loss0, _ = sess.run([w, b, loss,  train_op], feed_dict={x: xs.reshape(1,), y: ys.reshape(1,)})\n",
        "\n",
        "      print('[Train] Step: %d, w: %4.5f, b: %4.5f, loss: %4.5f' % (i, w0[0], b0[0], loss0))\n",
        "\n",
        "    y_p = sess.run(y_, feed_dict={x: [3.21]})\n",
        "    print('预估值: %4.5f, 真实值: %4.5f' % (y_p[0], 3.21 * 2 +1))"
      ],
      "metadata": {
        "colab": {
          "base_uri": "https://localhost:8080/"
        },
        "id": "FCbthcUZD0CO",
        "outputId": "7538c676-b9e9-4b32-e196-d5cef0f5058d"
      },
      "execution_count": null,
      "outputs": [
        {
          "output_type": "stream",
          "name": "stdout",
          "text": [
            "Tensor(\"Placeholder:0\", shape=(?,), dtype=float32)\n",
            "Tensor(\"Placeholder_1:0\", shape=(?,), dtype=float32)\n",
            "<tf.Variable 'w:0' shape=(1,) dtype=float32_ref>\n",
            "<tf.Variable 'b:0' shape=(1,) dtype=float32_ref>\n",
            "[Train] Step: 0, w: 1.25020, b: 0.91242, loss: 1.13494\n",
            "[Train] Step: 1, w: 1.69803, b: 1.06250, loss: 0.20207\n",
            "[Train] Step: 2, w: 1.90683, b: 1.05803, loss: 0.05631\n",
            "[Train] Step: 3, w: 1.97528, b: 1.04452, loss: 0.03231\n",
            "[Train] Step: 4, w: 1.99073, b: 1.04009, loss: 0.02824\n",
            "[Train] Step: 5, w: 1.99275, b: 1.03932, loss: 0.02777\n",
            "[Train] Step: 6, w: 1.99239, b: 1.03932, loss: 0.02786\n",
            "[Train] Step: 7, w: 1.99181, b: 1.03942, loss: 0.02801\n",
            "[Train] Step: 8, w: 1.99128, b: 1.03951, loss: 0.02814\n",
            "[Train] Step: 9, w: 1.99083, b: 1.03960, loss: 0.02825\n",
            "预估值: 7.43018, 真实值: 7.42000\n"
          ]
        }
      ]
    },
    {
      "cell_type": "code",
      "source": [
        "# 构建模型\n",
        "\n",
        "tf.reset_default_graph()\n",
        "\n",
        "x = tf.placeholder(\"float\", name=\"x\")\n",
        "y = tf.placeholder(\"float\", name=\"y\")\n",
        "print(x)\n",
        "print(y)\n",
        "\n",
        "w = tf.Variable(0.0, name='w0')\n",
        "b = tf.Variable(0.0, name='b0')\n",
        "print(w)\n",
        "print(b)\n",
        "\n",
        "\n",
        "y_ = w * x + b\n",
        "\n",
        "#p_y_1 = tf.nn.sigmoid(y_)\n",
        "#print(p_y_1)\n",
        "\n",
        "#y_reshaped = tf.reshape(y, (-1, 1))\n",
        "loss = tf.reduce_mean(tf.square(y - y_))\n",
        "\n",
        "# 定义梯度下降的方法\n",
        "with tf.name_scope('train_op'):\n",
        "    train_op = tf.train.AdamOptimizer(1e-2).minimize(loss)    # 最小化loss，到这里，计算图构建完成\n",
        "\n",
        "\n",
        "#训练\n",
        "init = tf.global_variables_initializer()\n",
        "\n",
        "with tf.Session() as sess:\n",
        "    sess.run(init)\n",
        "    for i in range(10):\n",
        "      #batch_data = []\n",
        "      #batch_labels = []\n",
        "      for xs, ys in zip(x_data, y_data):\n",
        "      #batch_data = tf.cast(tf.convert_to_tensor(x_data[i]), tf.float32)\n",
        "      #batch_labels = tf.cast(tf.convert_to_tensor(y_data[i]), tf.float32)\n",
        "      #print(batch_data.shape)\n",
        "      #print(batch_labels.shape)\n",
        "        #batch_data.append(xs)\n",
        "        #batch_data.append(ys)\n",
        "        #print('[Train] Step: %d start' % (i))\n",
        "        #print(xs, ys)\n",
        "        w0, b0, loss0, _ = sess.run([w, b, loss,  train_op], feed_dict={x: xs, y: ys})\n",
        "\n",
        "      print('[Train] Step: %d, w: %4.5f, b: %4.5f, loss: %4.5f' % (i, w0, b0, loss0))\n",
        "\n",
        "    y_p = sess.run(y_, feed_dict={x: 3.21})\n",
        "    print('预估值: %4.5f, 真实值: %4.5f' % (y_p, 3.21 * 2 +1))"
      ],
      "metadata": {
        "colab": {
          "base_uri": "https://localhost:8080/"
        },
        "id": "6rBQtqkIHRo-",
        "outputId": "05d6d979-9939-4877-8c81-e853c06fd652"
      },
      "execution_count": null,
      "outputs": [
        {
          "output_type": "stream",
          "name": "stdout",
          "text": [
            "Tensor(\"x:0\", dtype=float32)\n",
            "Tensor(\"y:0\", dtype=float32)\n",
            "<tf.Variable 'w0:0' shape=() dtype=float32_ref>\n",
            "<tf.Variable 'b0:0' shape=() dtype=float32_ref>\n",
            "[Train] Step: 0, w: 0.63836, b: 0.64804, loss: 3.78552\n",
            "[Train] Step: 1, w: 1.18400, b: 0.95968, loss: 1.15767\n",
            "[Train] Step: 2, w: 1.56338, b: 1.05579, loss: 0.34961\n",
            "[Train] Step: 3, w: 1.79498, b: 1.06500, loss: 0.11880\n",
            "[Train] Step: 4, w: 1.91535, b: 1.05408, loss: 0.05386\n",
            "[Train] Step: 5, w: 1.96833, b: 1.04516, loss: 0.03478\n",
            "[Train] Step: 6, w: 1.98804, b: 1.04089, loss: 0.02904\n",
            "[Train] Step: 7, w: 1.99404, b: 1.03936, loss: 0.02744\n",
            "[Train] Step: 8, w: 1.99527, b: 1.03896, loss: 0.02713\n",
            "[Train] Step: 9, w: 1.99509, b: 1.03895, loss: 0.02717\n",
            "预估值: 7.44317, 真实值: 7.42000\n"
          ]
        }
      ]
    },
    {
      "cell_type": "code",
      "source": [
        "# 构建模型\n",
        "\n",
        "tf.reset_default_graph()\n",
        "\n",
        "x = tf.placeholder(\"float\", name=\"x\")\n",
        "y = tf.placeholder(\"float\", name=\"y\")\n",
        "print(x)\n",
        "print(y)\n",
        "\n",
        "def model(x, w, b):\n",
        "  return tf.multiply(x, w) + b\n",
        "\n",
        "w = tf.Variable(1.0, name='w0')\n",
        "b = tf.Variable(0.0, name='b0')\n",
        "print(w)\n",
        "print(b)\n",
        "\n",
        "pred = model(x, w, b)\n",
        "\n",
        "loss_function = tf.reduce_mean(tf.square(y-pred))\n",
        "optimizer = tf.train.GradientDescentOptimizer(0.05).minimize(loss_function)\n",
        "\n",
        "#训练\n",
        "sess = tf.Session()\n",
        "init = tf.global_variables_initializer()\n",
        "sess.run(init)\n",
        "\n",
        "for epoch in range(10):\n",
        "  for xs, ys in zip(x_data, y_data):\n",
        "    _, loss = sess.run([optimizer, loss_function], feed_dict={x: xs, y: ys})\n",
        "\n",
        "b0temp=b.eval(session=sess)\n",
        "w0temp=w.eval(session=sess)\n",
        "print(\"Train finish, w: %4.5f, b: %4.5f\" % (w0temp, b0temp))\n",
        "\n",
        "#画出训练结果的曲线\n",
        "plt.plot(x_data, w0temp * x_data + b0temp)\n",
        "\n",
        "#画出我们想要学习到的线性函数 y = 2x + 1\n",
        "plt.plot(x_data, 2 * x_data + 1.0, color = 'red', linewidth = 3)\n",
        "\n",
        "y_p = sess.run(pred, feed_dict={x: [3.21]})\n",
        "print('预估值: %4.5f, 真实值: %4.5f' % (y_p[0], 3.21 * 2 +1))\n",
        "\n",
        "sess.close()"
      ],
      "metadata": {
        "colab": {
          "base_uri": "https://localhost:8080/",
          "height": 534
        },
        "id": "bGGRlzBkM7jq",
        "outputId": "b94d25f6-20b4-4ec2-f7cd-56bacdc4f96b"
      },
      "execution_count": null,
      "outputs": [
        {
          "output_type": "stream",
          "name": "stdout",
          "text": [
            "Tensor(\"x:0\", dtype=float32)\n",
            "Tensor(\"y:0\", dtype=float32)\n",
            "<tf.Variable 'w0:0' shape=() dtype=float32_ref>\n",
            "<tf.Variable 'b0:0' shape=() dtype=float32_ref>\n",
            "Train finish, w: 1.98230, b: 1.04201\n",
            "预估值: 7.40518, 真实值: 7.42000\n"
          ]
        },
        {
          "output_type": "display_data",
          "data": {
            "text/plain": [
              "<Figure size 640x480 with 1 Axes>"
            ],
            "image/png": "[encoded data removed]"
          },
          "metadata": {}
        }
      ]
    }
  ]
}